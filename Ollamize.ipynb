{
 "cells": [
  {
   "cell_type": "markdown",
   "id": "0de6166b-21d1-4611-b6a1-ee0bb327036b",
   "metadata": {},
   "source": [
    "# imports"
   ]
  },
  {
   "cell_type": "code",
   "execution_count": 2,
   "id": "25c6ec1d-ecad-4fed-bbce-2bcdd9447594",
   "metadata": {},
   "outputs": [],
   "source": [
    "import os \n",
    "import requests\n",
    "from dotenv import load_dotenv\n",
    "from bs4 import BeautifulSoup\n",
    "from IPython.display import Markdown, display\n",
    "from openai import OpenAI"
   ]
  },
  {
   "cell_type": "markdown",
   "id": "05cb5176-d059-4b7d-aa1d-61c8bd0d8dbe",
   "metadata": {},
   "source": [
    "# Load API KEY"
   ]
  },
  {
   "cell_type": "code",
   "execution_count": 4,
   "id": "6d05dff4-e4aa-4c84-830d-884702fe7c42",
   "metadata": {},
   "outputs": [
    {
     "name": "stdout",
     "output_type": "stream",
     "text": [
      "yes\n"
     ]
    }
   ],
   "source": [
    "load_dotenv(override=True)\n",
    "api_key = os.getenv(\"OPENAI_API_KEY\")\n",
    "if not api_key:\n",
    "    print(\"\")\n",
    "elif not api_key.startswith(\"sk-proj-\"):\n",
    "    print(\"\")\n",
    "elif api_key.strip() != api_key:\n",
    "    print(\"\")\n",
    "else:\n",
    "    print(\"yes\")\n",
    "    "
   ]
  },
  {
   "cell_type": "markdown",
   "id": "fce10c28-8aca-4e7e-b639-13cd3cfcf68e",
   "metadata": {},
   "source": [
    "Create OpenAI object"
   ]
  },
  {
   "cell_type": "code",
   "execution_count": 6,
   "id": "d730abc9-d713-45e8-bee0-1add1e834ee1",
   "metadata": {},
   "outputs": [],
   "source": [
    "openai = OpenAI()"
   ]
  },
  {
   "cell_type": "markdown",
   "id": "1c28e159-00fa-41c2-867a-556340647035",
   "metadata": {},
   "source": [
    "# Test OpenAI with a simple message "
   ]
  },
  {
   "cell_type": "code",
   "execution_count": 8,
   "id": "8c740237-1451-4b18-8bf6-c434c1efec4d",
   "metadata": {},
   "outputs": [
    {
     "name": "stdout",
     "output_type": "stream",
     "text": [
      "There are several great websites for learning languages for free. Here are a few popular options:\n",
      "\n",
      "1. **Duolingo** (www.duolingo.com) - Offers a gamified language learning experience for various languages.\n",
      "  \n",
      "2. **BBC Languages** (www.bbc.co.uk/languages) - Provides resources for learning several languages, including audio, video, games, and vocabulary.\n",
      "\n",
      "3. **Memrise** (www.memrise.com) - Focuses on vocabulary and phrases using spaced repetition and multimedia support.\n",
      "\n",
      "4. **Busuu** (www.busuu.com) - Offers a community-based learning experience with interactive language features.\n",
      "\n",
      "5. **Open Culture** (www.openculture.com) - Curates free language learning resources, including courses, textbooks, and audio resources.\n",
      "\n",
      "6. **Language Exchange Platforms (e.g., ConversationExchange.com)** - Connects you with native speakers for language practice.\n",
      "\n",
      "7. **Tandem** (www.tandem.net) - A platform to find language exchange partners around the world.\n",
      "\n",
      "Explore these options to find which works best for your learning style!\n"
     ]
    }
   ],
   "source": [
    "message = \"give me a website for learning any languange for free\"\n",
    "response = openai.chat.completions.create(model=\"gpt-4o-mini\", messages = [{\"role\": \"user\", \"content\": message}])\n",
    "print(response.choices[0].message.content)"
   ]
  },
  {
   "cell_type": "code",
   "execution_count": 9,
   "id": "52e083a1-0069-49e2-84bf-1eec42211b41",
   "metadata": {},
   "outputs": [],
   "source": [
    "# Website Class\n",
    "# 🔑 Memory Hack (Break it into 6 steps):\n",
    "# Class + Constructor → Make a class, define __init__ with url.\n",
    "\n",
    "# Save URL → self.url = url.\n",
    "\n",
    "# Download Page → requests.get(url).\n",
    "\n",
    "# Parse HTML → BeautifulSoup(response.content, \"html.parser\").\n",
    "\n",
    "# Get Title → If title exists, use it, else \"no title found\".\n",
    "\n",
    "# Clean + Extract Text → Remove scripts, styles, images, then get clean text."
   ]
  },
  {
   "cell_type": "code",
   "execution_count": 88,
   "id": "6224b494-ef33-4cc5-a424-7a6a444ce25d",
   "metadata": {},
   "outputs": [],
   "source": [
    "headers = {\n",
    " 'Mozilla/5.0 (Windows NT 10.0; Win64; x64) AppleWebKit/537.36 (KHTML, like Gecko) Chrome/128.0.0.0 Safari/537.36'\n",
    "}\n",
    "\n",
    "class Website:\n",
    "    url = str\n",
    "    title = str\n",
    "    text = str\n",
    "\n",
    "    def __init__(self, url):\n",
    "        self.url = url\n",
    "\n",
    "        response = requests.get(url)\n",
    "        soup = BeautifulSoup(response.content, \"html.parser\")\n",
    "        self.title = soup.title.string if soup.title else \"Title Not Found\"\n",
    "        for waste in soup.body([\"img\", \"script\", \"style\", \"input\"]):\n",
    "            waste.decompose()\n",
    "        self.text = soup.body.get_text(separator = \"\\n\", strip = True)"
   ]
  },
  {
   "cell_type": "code",
   "execution_count": 89,
   "id": "2f602408-8c86-43ca-bfdd-1b39da8dfb93",
   "metadata": {},
   "outputs": [],
   "source": [
    "# Try website class"
   ]
  },
  {
   "cell_type": "code",
   "execution_count": 90,
   "id": "4aedffcf-fdc6-4c2f-a881-0a43c365ab59",
   "metadata": {
    "scrolled": true
   },
   "outputs": [
    {
     "name": "stdout",
     "output_type": "stream",
     "text": [
      "Home - Edward Donner\n",
      "Home\n",
      "Connect Four\n",
      "Outsmart\n",
      "An arena that pits LLMs against each other in a battle of diplomacy and deviousness\n",
      "About\n",
      "Posts\n",
      "Well, hi there.\n",
      "I’m Ed. I like writing code and experimenting with LLMs, and hopefully you’re here because you do too. I also enjoy DJing (but I’m badly out of practice), amateur electronic music production (\n",
      "very\n",
      "amateur) and losing myself in\n",
      "Hacker News\n",
      ", nodding my head sagely to things I only half understand.\n",
      "I’m the co-founder and CTO of\n",
      "Nebula.io\n",
      ". We’re applying AI to a field where it can make a massive, positive impact: helping people discover their potential and pursue their reason for being. Recruiters use our product today to source, understand, engage and manage talent. I’m previously the founder and CEO of AI startup untapt,\n",
      "acquired in 2021\n",
      ".\n",
      "We work with groundbreaking, proprietary LLMs verticalized for talent, we’ve\n",
      "patented\n",
      "our matching model, and our award-winning platform has happy customers and tons of press coverage.\n",
      "Connect\n",
      "with me for more!\n",
      "May 28, 2025\n",
      "Connecting my courses – become an LLM expert and leader\n",
      "May 18, 2025\n",
      "2025 AI Executive Briefing\n",
      "April 21, 2025\n",
      "The Complete Agentic AI Engineering Course\n",
      "January 23, 2025\n",
      "LLM Workshop – Hands-on with Agents – resources\n",
      "Navigation\n",
      "Home\n",
      "Connect Four\n",
      "Outsmart\n",
      "An arena that pits LLMs against each other in a battle of diplomacy and deviousness\n",
      "About\n",
      "Posts\n",
      "Get in touch\n",
      "ed [at] edwarddonner [dot] com\n",
      "www.edwarddonner.com\n",
      "Follow me\n",
      "LinkedIn\n",
      "Twitter\n",
      "Facebook\n",
      "Subscribe to newsletter\n",
      "Type your email…\n",
      "Subscribe\n"
     ]
    }
   ],
   "source": [
    "ed = Website(\"https://edwarddonner.com\")\n",
    "print(ed.title)\n",
    "print(ed.text)"
   ]
  },
  {
   "cell_type": "code",
   "execution_count": 91,
   "id": "902f8a5b-ceac-4416-81ac-89da0011097b",
   "metadata": {},
   "outputs": [],
   "source": [
    "# System Prompt"
   ]
  },
  {
   "cell_type": "code",
   "execution_count": 92,
   "id": "5118f887-d01f-4b74-90e0-93ff50dbc5c0",
   "metadata": {},
   "outputs": [],
   "source": [
    "system_prompt = \"asd\""
   ]
  },
  {
   "cell_type": "code",
   "execution_count": 93,
   "id": "aa2fcff8-c8db-412f-9929-e8cecf95085a",
   "metadata": {},
   "outputs": [],
   "source": [
    "# Function to create a user prompt"
   ]
  },
  {
   "cell_type": "code",
   "execution_count": 94,
   "id": "50fa61a4-4660-491f-a435-c2d012b01d94",
   "metadata": {},
   "outputs": [],
   "source": [
    "def user_prompt_for(website):\n",
    "    user_prompt = f\"You are looking at a website.titled {website.title}\"\n",
    "    user_prompt += \" The Content of this website is as follows\" \\\n",
    "\"please provide a short summary for the website. \" \\\n",
    "\"Also provide a list of announcement and news, then summarize this too in hindi\\n\\n\"\n",
    "    user_prompt += website.text\n",
    "    return user_prompt"
   ]
  },
  {
   "cell_type": "code",
   "execution_count": 95,
   "id": "5e0b2eec-4e4d-459d-8d3d-cc1152e21a18",
   "metadata": {},
   "outputs": [],
   "source": [
    "# Test user prompt"
   ]
  },
  {
   "cell_type": "code",
   "execution_count": 96,
   "id": "ff5cf770-1b32-49c8-9532-b3181639b458",
   "metadata": {},
   "outputs": [
    {
     "name": "stdout",
     "output_type": "stream",
     "text": [
      "You are looking at a website.titled Home - Edward Donner The Content of this website is as followsplease provide a short summary for the website. Also provide a list of announcement and news, then summarize this too in hindi\n",
      "\n",
      "Home\n",
      "Connect Four\n",
      "Outsmart\n",
      "An arena that pits LLMs against each other in a battle of diplomacy and deviousness\n",
      "About\n",
      "Posts\n",
      "Well, hi there.\n",
      "I’m Ed. I like writing code and experimenting with LLMs, and hopefully you’re here because you do too. I also enjoy DJing (but I’m badly out of practice), amateur electronic music production (\n",
      "very\n",
      "amateur) and losing myself in\n",
      "Hacker News\n",
      ", nodding my head sagely to things I only half understand.\n",
      "I’m the co-founder and CTO of\n",
      "Nebula.io\n",
      ". We’re applying AI to a field where it can make a massive, positive impact: helping people discover their potential and pursue their reason for being. Recruiters use our product today to source, understand, engage and manage talent. I’m previously the founder and CEO of AI startup untapt,\n",
      "acquired in 2021\n",
      ".\n",
      "We work with groundbreaking, proprietary LLMs verticalized for talent, we’ve\n",
      "patented\n",
      "our matching model, and our award-winning platform has happy customers and tons of press coverage.\n",
      "Connect\n",
      "with me for more!\n",
      "May 28, 2025\n",
      "Connecting my courses – become an LLM expert and leader\n",
      "May 18, 2025\n",
      "2025 AI Executive Briefing\n",
      "April 21, 2025\n",
      "The Complete Agentic AI Engineering Course\n",
      "January 23, 2025\n",
      "LLM Workshop – Hands-on with Agents – resources\n",
      "Navigation\n",
      "Home\n",
      "Connect Four\n",
      "Outsmart\n",
      "An arena that pits LLMs against each other in a battle of diplomacy and deviousness\n",
      "About\n",
      "Posts\n",
      "Get in touch\n",
      "ed [at] edwarddonner [dot] com\n",
      "www.edwarddonner.com\n",
      "Follow me\n",
      "LinkedIn\n",
      "Twitter\n",
      "Facebook\n",
      "Subscribe to newsletter\n",
      "Type your email…\n",
      "Subscribe\n"
     ]
    }
   ],
   "source": [
    "print(user_prompt_for(ed))"
   ]
  },
  {
   "cell_type": "code",
   "execution_count": 97,
   "id": "cbadfc9c-3d56-4432-ab1a-411700cb1ab9",
   "metadata": {},
   "outputs": [
    {
     "data": {
      "text/plain": [
       "[{'role': 'system', 'content': 'system message goes here'},\n",
       " {'role': 'user', 'content': 'user message goes here'}]"
      ]
     },
     "execution_count": 97,
     "metadata": {},
     "output_type": "execute_result"
    }
   ],
   "source": [
    "# Message example\n",
    "# Messages\n",
    "# The API from OpenAI expects to receive messages in a particular structure. Many of the other APIs share this structure:\n",
    "\n",
    "[\n",
    "    {\"role\": \"system\", \"content\": \"system message goes here\"},\n",
    "    {\"role\": \"user\", \"content\": \"user message goes here\"}\n",
    "]\n",
    "# To give you a preview, the next 2 cells make a rather simple call - we won't stretch the mighty GPT (yet!)"
   ]
  },
  {
   "cell_type": "code",
   "execution_count": null,
   "id": "7775efbc-52d1-462b-8267-9a064b42439b",
   "metadata": {},
   "outputs": [],
   "source": [
    "# def messages_for(website):\n",
    "#     return [\n",
    "#         {\"role\": \"system\", \"content\": system_prompt},\n",
    "#         {\"role\": \"user\", \"content\": user_prompt_for(website)}\n",
    "#     ]"
   ]
  },
  {
   "cell_type": "code",
   "execution_count": 101,
   "id": "ffe90132-e7df-483d-9ac4-59bbb2d3ae2f",
   "metadata": {},
   "outputs": [],
   "source": [
    "def messages_for(website):\n",
    "    return [\n",
    "        {\"role\": \"system\", \"content\": system_prompt},\n",
    "        {\"role\": \"user\", \"content\": user_prompt_for(website)}\n",
    "        ]"
   ]
  },
  {
   "cell_type": "code",
   "execution_count": 102,
   "id": "c47945bd-f3e6-4088-a7f5-4844e92bcd71",
   "metadata": {},
   "outputs": [],
   "source": [
    "# Call GPT with messages"
   ]
  },
  {
   "cell_type": "code",
   "execution_count": 113,
   "id": "7c556137-0128-49dc-bf82-7cf1fe7786b8",
   "metadata": {},
   "outputs": [
    {
     "data": {
      "text/plain": [
       "[{'role': 'system', 'content': 'asd'},\n",
       " {'role': 'user',\n",
       "  'content': 'You are looking at a website.titled Home - Edward Donner The Content of this website is as followsplease provide a short summary for the website. Also provide a list of announcement and news, then summarize this too in hindi\\n\\nHome\\nConnect Four\\nOutsmart\\nAn arena that pits LLMs against each other in a battle of diplomacy and deviousness\\nAbout\\nPosts\\nWell, hi there.\\nI’m Ed. I like writing code and experimenting with LLMs, and hopefully you’re here because you do too. I also enjoy DJing (but I’m badly out of practice), amateur electronic music production (\\nvery\\namateur) and losing myself in\\nHacker News\\n, nodding my head sagely to things I only half understand.\\nI’m the co-founder and CTO of\\nNebula.io\\n. We’re applying AI to a field where it can make a massive, positive impact: helping people discover their potential and pursue their reason for being. Recruiters use our product today to source, understand, engage and manage talent. I’m previously the founder and CEO of AI startup untapt,\\nacquired in 2021\\n.\\nWe work with groundbreaking, proprietary LLMs verticalized for talent, we’ve\\npatented\\nour matching model, and our award-winning platform has happy customers and tons of press coverage.\\nConnect\\nwith me for more!\\nMay 28, 2025\\nConnecting my courses – become an LLM expert and leader\\nMay 18, 2025\\n2025 AI Executive Briefing\\nApril 21, 2025\\nThe Complete Agentic AI Engineering Course\\nJanuary 23, 2025\\nLLM Workshop – Hands-on with Agents – resources\\nNavigation\\nHome\\nConnect Four\\nOutsmart\\nAn arena that pits LLMs against each other in a battle of diplomacy and deviousness\\nAbout\\nPosts\\nGet in touch\\ned [at] edwarddonner [dot] com\\nwww.edwarddonner.com\\nFollow me\\nLinkedIn\\nTwitter\\nFacebook\\nSubscribe to newsletter\\nType your email…\\nSubscribe'}]"
      ]
     },
     "execution_count": 113,
     "metadata": {},
     "output_type": "execute_result"
    }
   ],
   "source": [
    "messages_for(ed)"
   ]
  },
  {
   "cell_type": "code",
   "execution_count": 110,
   "id": "677ef99b-c6f3-4030-8d87-bd731f90eb0b",
   "metadata": {},
   "outputs": [],
   "source": [
    "# Create Messages Automatically"
   ]
  },
  {
   "cell_type": "code",
   "execution_count": 112,
   "id": "082b4a7d-a672-4a60-b6e9-a44019f85651",
   "metadata": {},
   "outputs": [],
   "source": [
    "def summarize(url):\n",
    "    website = Website(url)\n",
    "    response = openai.chat.completions.create(\n",
    "        model = \"gpt-4o-mini\" ,\n",
    "        messages = messages_for(website)\n",
    "    )\n",
    "    return response.choices[0].message.content"
   ]
  },
  {
   "cell_type": "code",
   "execution_count": 22,
   "id": "10aa62e3-3d89-4f3a-8676-85baedda1314",
   "metadata": {},
   "outputs": [],
   "source": [
    "# Summarize Function"
   ]
  },
  {
   "cell_type": "code",
   "execution_count": 114,
   "id": "c219e7c1-7d19-4367-8522-d273bc01e46e",
   "metadata": {},
   "outputs": [
    {
     "data": {
      "text/plain": [
       "'### Summary of the Website\\n\\nThe website \"Home - Edward Donner\" serves as a personal platform for Edward Donner, who is involved in coding and experimenting with large language models (LLMs). As the co-founder and CTO of Nebula.io, he focuses on the application of AI to help individuals discover their potential and navigate their career journeys. The site also provides information about upcoming courses and events related to LLMs, including workshops and executive briefings.\\n\\n### List of Announcements and News\\n1. **May 28, 2025** - Connecting my courses – become an LLM expert and leader\\n2. **May 18, 2025** - 2025 AI Executive Briefing\\n3. **April 21, 2025** - The Complete Agentic AI Engineering Course\\n4. **January 23, 2025** - LLM Workshop – Hands-on with Agents – resources\\n\\n### Summary in Hindi\\n\\nवेबसाइट \"Home - Edward Donner\" एक व्यक्तिगत प्लेटफॉर्म है जो एंन्वर्ड डोनर के लिए है, जो कोडिंग और बड़े भाषा मॉडल (LLMs) के साथ प्रयोग कर रहे हैं। Nebula.io के सह-संस्थापक और CTO के रूप में, वे AI के उपयोग पर क ध्यान केंद्रित करते हैं, ताकि व्यक्तियों को अपनी क्षमता को पहचानने और करियर की यात्रा में मार्गदर्शन करने में मदद मिल सके। साइट आने वाले कोर्स और LLM से संबंधित कार्यक्रमों की जानकारी भी प्रदान करती है, जिसमें कार्यशालाएँ और कार्यकारी ब्रीफिंग्स शामिल हैं।\\n\\n### घोषणाओं और समाचारों की सूची\\n1. **28 मई 2025** - मेरे पाठ्यक्रमों को जोड़ना - LLM विशेषज्ञ और नेता बनें\\n2. **18 मई 2025** - 2025 AI कार्यकारी ब्रीफिंग\\n3. **21 अप्रैल 2025** - पूरा एजेंटिक एआई इंजीनियरिंग पाठ्यक्रम\\n4. **23 जनवरी 2025** - LLM कार्यशाला - एजेंटों के साथ व्यावहारिक - संसाधन'"
      ]
     },
     "execution_count": 114,
     "metadata": {},
     "output_type": "execute_result"
    }
   ],
   "source": [
    "summarize(\"https://edwarddonner.com\")"
   ]
  },
  {
   "cell_type": "code",
   "execution_count": 23,
   "id": "d0ca614a-4703-4889-8fa4-169da4255398",
   "metadata": {},
   "outputs": [],
   "source": [
    "# Display Summaries Nicely"
   ]
  },
  {
   "cell_type": "code",
   "execution_count": 115,
   "id": "70c035e4-7e52-459c-ba41-bde379651030",
   "metadata": {},
   "outputs": [],
   "source": [
    "def display_summary(url):\n",
    "    summary = summarize(url)\n",
    "    display(Markdown(summary))"
   ]
  },
  {
   "cell_type": "code",
   "execution_count": 24,
   "id": "1e452da2-fb4b-490e-866a-4270a4dcd799",
   "metadata": {},
   "outputs": [],
   "source": [
    "# Example Calls"
   ]
  },
  {
   "cell_type": "code",
   "execution_count": 117,
   "id": "068e9c7c-c58d-4822-aec5-91c4a862035e",
   "metadata": {},
   "outputs": [
    {
     "data": {
      "text/markdown": [
       "### Summary of the Website\n",
       "\n",
       "The website titled \"Home - Edward Donner\" serves as a personal platform for Ed Donner, who is an advocate for AI, particularly in the realm of Large Language Models (LLMs). He is the co-founder and CTO of Nebula.io, which focuses on utilizing AI to help individuals discover their potential and enhance recruitment processes. The site features several sections including a blog, an outline of Ed's interest in coding, DJing, electronic music, and his engagement with Hacker News. There are also announcements about upcoming courses and events related to LLMs and AI.\n",
       "\n",
       "### Announcements and News\n",
       "\n",
       "1. **Connecting My Courses – Become an LLM Expert and Leader** (May 28, 2025)\n",
       "2. **2025 AI Executive Briefing** (May 18, 2025)\n",
       "3. **The Complete Agentic AI Engineering Course** (April 21, 2025)\n",
       "4. **LLM Workshop – Hands-on with Agents – Resources** (January 23, 2025)\n",
       "\n",
       "### Summary of Announcements in Hindi\n",
       "\n",
       "1. **मेरे पाठ्यक्रमों को जोड़ना - LLM विशेषज्ञ और नेता बनें** (28 मई, 2025)\n",
       "2. **2025 एआई कार्यकारी ब्रीफिंग** (18 मई, 2025)\n",
       "3. **पूर्ण एजेंटिक एआई इंजीनियरिंग पाठ्यक्रम** (21 अप्रैल, 2025)\n",
       "4. **LLM कार्यशाला - एजेंट के साथ व्यावहारिक अनुभव - संसाधन** (23 जनवरी, 2025)"
      ],
      "text/plain": [
       "<IPython.core.display.Markdown object>"
      ]
     },
     "metadata": {},
     "output_type": "display_data"
    }
   ],
   "source": [
    "display_summary(\"https://edwarddonner.com\")"
   ]
  },
  {
   "cell_type": "code",
   "execution_count": 25,
   "id": "460e457b-5a06-421f-bea0-ffc93355339c",
   "metadata": {},
   "outputs": [],
   "source": [
    "# Practice Sections"
   ]
  },
  {
   "cell_type": "code",
   "execution_count": null,
   "id": "7baae39b-f121-4c67-ab4f-8b31fd4d4dbb",
   "metadata": {},
   "outputs": [],
   "source": []
  }
 ],
 "metadata": {
  "kernelspec": {
   "display_name": "Python 3 (ipykernel)",
   "language": "python",
   "name": "python3"
  },
  "language_info": {
   "codemirror_mode": {
    "name": "ipython",
    "version": 3
   },
   "file_extension": ".py",
   "mimetype": "text/x-python",
   "name": "python",
   "nbconvert_exporter": "python",
   "pygments_lexer": "ipython3",
   "version": "3.11.13"
  }
 },
 "nbformat": 4,
 "nbformat_minor": 5
}
